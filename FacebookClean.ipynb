{
  "nbformat": 4,
  "nbformat_minor": 0,
  "metadata": {
    "colab": {
      "provenance": [],
      "authorship_tag": "ABX9TyM0a4iTbB9uyr0DAroDpN3I",
      "include_colab_link": true
    },
    "kernelspec": {
      "name": "python3",
      "display_name": "Python 3"
    },
    "language_info": {
      "name": "python"
    }
  },
  "cells": [
    {
      "cell_type": "markdown",
      "metadata": {
        "id": "view-in-github",
        "colab_type": "text"
      },
      "source": [
        "<a href=\"https://colab.research.google.com/github/neel13062003/Egniol_Task/blob/master/FacebookClean.ipynb\" target=\"_parent\"><img src=\"https://colab.research.google.com/assets/colab-badge.svg\" alt=\"Open In Colab\"/></a>"
      ]
    },
    {
      "cell_type": "code",
      "execution_count": 1,
      "metadata": {
        "id": "QLtQvXWuKVYR"
      },
      "outputs": [],
      "source": [
        "import pandas as pd"
      ]
    },
    {
      "cell_type": "code",
      "source": [
        "data1 = pd.read_csv('1.csv')"
      ],
      "metadata": {
        "id": "Ne1bVPe_KfX2"
      },
      "execution_count": 2,
      "outputs": []
    },
    {
      "cell_type": "code",
      "source": [
        "# Select only the columns you want\n",
        "filtered_data1 = data1[['created_time', 'ad_name', 'phone_number', 'company_name', 'email']]\n",
        "print(filtered_data1)"
      ],
      "metadata": {
        "id": "e3axiUWPLcnY",
        "colab": {
          "base_uri": "https://localhost:8080/"
        },
        "outputId": "b857698d-5514-4f72-d18c-e6dd362f647b"
      },
      "execution_count": 5,
      "outputs": [
        {
          "output_type": "stream",
          "name": "stdout",
          "text": [
            "    created_time                                  ad_name   phone_number  \\\n",
            "0        4/21/23  Agriculture NAIF Funding 9 Lakh Data Ad  +919774939833   \n",
            "1        4/21/23  Agriculture NAIF Funding 9 Lakh Data Ad  +919689856127   \n",
            "2        4/21/23  Agriculture NAIF Funding 9 Lakh Data Ad  +919327631722   \n",
            "3        4/21/23  Agriculture NAIF Funding 9 Lakh Data Ad  +918485801000   \n",
            "4        4/21/23  Agriculture NAIF Funding 9 Lakh Data Ad  +919424130800   \n",
            "..           ...                                      ...            ...   \n",
            "220      4/18/23  Agriculture NAIF Funding 9 Lakh Data Ad  +919904230833   \n",
            "221      4/18/23  Agriculture NAIF Funding 9 Lakh Data Ad  +919419034115   \n",
            "222      4/18/23  Agriculture NAIF Funding 9 Lakh Data Ad  +919003027304   \n",
            "223      4/18/23  Agriculture NAIF Funding 9 Lakh Data Ad  +919822141010   \n",
            "224      4/18/23  Agriculture NAIF Funding 9 Lakh Data Ad  +918458976593   \n",
            "\n",
            "              company_name                     email  \n",
            "0                   Imphal      rejobi2022@gmail.com  \n",
            "1      baliraja bachat gat       zinjadenr@gmail.com  \n",
            "2               rajal agri    neerajkadi06@gmail.com  \n",
            "3    Akbani foods products  irfan.akbani84@gmail.com  \n",
            "4                 Director      hemantsai2@gmail.com  \n",
            "..                     ...                       ...  \n",
            "220     Sakhi Poultry Farm     asif4nadiad@gmail.com  \n",
            "221  Green valley trader's    hayderdar765@gmail.com  \n",
            "222       The natural farm        cjvikram@gmail.com  \n",
            "223                सामाजिक    rajeshkarhad@gmail.com  \n",
            "224             india post     nanakmaravi@gmail.com  \n",
            "\n",
            "[225 rows x 5 columns]\n"
          ]
        }
      ]
    },
    {
      "cell_type": "code",
      "source": [
        "# Select the required columns and create a new DataFrame explicitly with .copy()\n",
        "filtered_data = data1[['created_time', 'ad_name', 'phone_number', 'company_name', 'email']].copy()\n",
        "\n",
        "# Ensure the 'phone_number' column is text and clean non-digit characters\n",
        "filtered_data.loc[:, 'phone_number'] = filtered_data['phone_number'].astype(str)  # Convert to string\n",
        "filtered_data.loc[:, 'phone_number'] = filtered_data['phone_number'].str.replace(r'\\D', '', regex=True)  # Remove non-digits\n",
        "\n",
        "# Extract the last 10 digits of the phone number\n",
        "filtered_data.loc[:, 'phone_number'] = filtered_data['phone_number'].str[-10:]\n",
        "\n"
      ],
      "metadata": {
        "id": "I-nSUVFdwJ70"
      },
      "execution_count": 11,
      "outputs": []
    },
    {
      "cell_type": "code",
      "source": [
        "# Display the first few rows of the DataFrame to check the results\n",
        "print(filtered_data.head())"
      ],
      "metadata": {
        "colab": {
          "base_uri": "https://localhost:8080/"
        },
        "id": "eoirGsZGwwWV",
        "outputId": "0208bb7c-471d-4fc9-f2c9-bfe85f79a1e7"
      },
      "execution_count": 12,
      "outputs": [
        {
          "output_type": "stream",
          "name": "stdout",
          "text": [
            "  created_time                                  ad_name phone_number  \\\n",
            "0      4/21/23  Agriculture NAIF Funding 9 Lakh Data Ad   9774939833   \n",
            "1      4/21/23  Agriculture NAIF Funding 9 Lakh Data Ad   9689856127   \n",
            "2      4/21/23  Agriculture NAIF Funding 9 Lakh Data Ad   9327631722   \n",
            "3      4/21/23  Agriculture NAIF Funding 9 Lakh Data Ad   8485801000   \n",
            "4      4/21/23  Agriculture NAIF Funding 9 Lakh Data Ad   9424130800   \n",
            "\n",
            "            company_name                     email  \n",
            "0                 Imphal      rejobi2022@gmail.com  \n",
            "1    baliraja bachat gat       zinjadenr@gmail.com  \n",
            "2             rajal agri    neerajkadi06@gmail.com  \n",
            "3  Akbani foods products  irfan.akbani84@gmail.com  \n",
            "4               Director      hemantsai2@gmail.com  \n"
          ]
        }
      ]
    },
    {
      "cell_type": "code",
      "source": [
        "!pip install mysql-connector-python"
      ],
      "metadata": {
        "colab": {
          "base_uri": "https://localhost:8080/"
        },
        "id": "m8A1VIhLwzor",
        "outputId": "9fe3bb5e-6e09-4859-8b40-83a879738356"
      },
      "execution_count": 14,
      "outputs": [
        {
          "output_type": "stream",
          "name": "stdout",
          "text": [
            "Collecting mysql-connector-python\n",
            "  Downloading mysql_connector_python-8.4.0-cp310-cp310-manylinux_2_17_x86_64.whl (19.4 MB)\n",
            "\u001b[2K     \u001b[90m━━━━━━━━━━━━━━━━━━━━━━━━━━━━━━━━━━━━━━━━\u001b[0m \u001b[32m19.4/19.4 MB\u001b[0m \u001b[31m35.2 MB/s\u001b[0m eta \u001b[36m0:00:00\u001b[0m\n",
            "\u001b[?25hInstalling collected packages: mysql-connector-python\n",
            "Successfully installed mysql-connector-python-8.4.0\n"
          ]
        }
      ]
    },
    {
      "cell_type": "code",
      "source": [],
      "metadata": {
        "id": "cD01YlPxzZ-x"
      },
      "execution_count": null,
      "outputs": []
    },
    {
      "cell_type": "code",
      "source": [],
      "metadata": {
        "id": "wLbjVet_zd7D"
      },
      "execution_count": null,
      "outputs": []
    },
    {
      "cell_type": "code",
      "source": [
        "import mysql.connector\n",
        "from mysql.connector import Error\n",
        "\n",
        "def connect_to_database():\n",
        "    try:\n",
        "        connection = mysql.connector.connect(\n",
        "            host='ls-a8f19dc65c2dfdb43dbb12300a1816cbf6fb7605.c2g9uvquz5lp.ap-south-1.rds.amazonaws.com',\n",
        "            user='dbmasteruser',\n",
        "            password='p)of$]?7`uA4]x..&TaaDL+<`8f2]Xx4',\n",
        "            database='UrbanCompany'\n",
        "        )\n",
        "        if connection.is_connected():\n",
        "            print('Connected to MySQL database')\n",
        "            return connection\n",
        "    except Error as e:\n",
        "        print(f'Error connecting to MySQL database: {e}')\n",
        "        return None\n"
      ],
      "metadata": {
        "id": "o6gR9znWxHoB"
      },
      "execution_count": 17,
      "outputs": []
    },
    {
      "cell_type": "code",
      "source": [
        "def main():\n",
        "    # Connect to the database\n",
        "    connection = connect_to_database()\n",
        "    if not connection:\n",
        "        return\n",
        "    # Define your SQL query\n",
        "    query = \"\"\"\n",
        "    SELECT id,`from` as ContactNumber  FROM PLATFORM.text_waba\n",
        "    WHERE text IN (SELECT text FROM PLATFORM.BUTTON)\n",
        "    AND DATE(created_at) = \"2024-04-13\"\n",
        "    LIMIT 5;\n",
        "    \"\"\"\n",
        "\n",
        "    # Execute the SQL query\n",
        "    records = execute_query(connection, query)\n",
        "    if not records:\n",
        "        return\n",
        "\n",
        "    # Display the results\n",
        "    print(\"Results:\")\n",
        "    for record in records:\n",
        "        print(record)\n",
        "\n",
        "if __name__ == \"__main__\":\n",
        "    main()"
      ],
      "metadata": {
        "id": "96i1UaQXyx6_"
      },
      "execution_count": null,
      "outputs": []
    },
    {
      "cell_type": "code",
      "source": [
        "import pandas as pd\n",
        "import mysql.connector\n",
        "from mysql.connector import Error\n",
        "import json  # Import JSON to handle JSON data\n",
        "\n",
        "# Function to read CSV data and process phone numbers\n",
        "def process_csv(file_path):\n",
        "    data = pd.read_csv(file_path)\n",
        "    filtered_data = data[['created_time', 'ad_name', 'phone_number', 'company_name', 'email']].copy()\n",
        "    # Clean phone numbers and extract the last 10 digits\n",
        "    filtered_data['phone_number'] = filtered_data['phone_number'].astype(str).str.replace(r'\\D', '', regex=True)\n",
        "    filtered_data['phone_number'] = filtered_data['phone_number'].str[-10:]\n",
        "    return filtered_data\n",
        "\n",
        "# Function to connect to the MySQL database\n",
        "def connect_to_database():\n",
        "    try:\n",
        "        connection = mysql.connector.connect(\n",
        "            host='ls-a8f19dc65c2dfdb43dbb12300a1816cbf6fb7605.c2g9uvquz5lp.ap-south-1.rds.amazonaws.com',\n",
        "            user='dbmasteruser',\n",
        "            password='p)of$]?7`uA4]x..&TaaDL+<`8f2]Xx4',\n",
        "            database='UrbanCompany'\n",
        "        )\n",
        "        if connection.is_connected():\n",
        "            print('Connected to MySQL database')\n",
        "            return connection\n",
        "    except Error as e:\n",
        "        print(f'Error connecting to MySQL database: {e}')\n",
        "        return None\n",
        "\n",
        "# Function to insert data into MySQL\n",
        "def insert_data_to_db(connection, data):\n",
        "    cursor = connection.cursor()\n",
        "    insert_query = \"\"\"\n",
        "    INSERT INTO egniol_facebook (Created_At, Contact_Number, Company_Name, EmailID, Other)\n",
        "    VALUES (%s, %s, %s, %s, %s)\n",
        "    \"\"\"\n",
        "    # Insert each row of the filtered data into the database\n",
        "    for _, row in data.iterrows():\n",
        "        # Construct a JSON object for the \"Other\" column\n",
        "        other_data = {\n",
        "            'ad_name': row['ad_name'],  # Example of data to be included in JSON\n",
        "        }\n",
        "        cursor.execute(insert_query, (row['created_time'], row['phone_number'], row['company_name'], row['email'], json.dumps(other_data)))\n",
        "\n",
        "    connection.commit()  # Commit the transaction\n",
        "    cursor.close()\n",
        "\n",
        "# Main function\n",
        "def main():\n",
        "    # Process CSV and get the data\n",
        "    filtered_data = process_csv('1.csv')\n",
        "\n",
        "    # Connect to the MySQL database\n",
        "    connection = connect_to_database()\n",
        "    if not connection:\n",
        "        return\n",
        "\n",
        "    # Insert data into the MySQL database\n",
        "    insert_data_to_db(connection, filtered_data)\n",
        "\n",
        "    # Close the connection after use\n",
        "    connection.close()\n",
        "    print(\"Data inserted and connection closed.\")\n",
        "\n",
        "# Run the main function\n",
        "if __name__ == \"__main__\":\n",
        "    main()\n"
      ],
      "metadata": {
        "colab": {
          "base_uri": "https://localhost:8080/"
        },
        "id": "6mh0AMl_zfF2",
        "outputId": "8d9f564c-0e0d-4c36-cacb-1e7abacf75f3"
      },
      "execution_count": 23,
      "outputs": [
        {
          "output_type": "stream",
          "name": "stdout",
          "text": [
            "Connected to MySQL database\n",
            "Data inserted and connection closed.\n"
          ]
        }
      ]
    }
  ]
}