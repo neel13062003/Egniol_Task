{
  "nbformat": 4,
  "nbformat_minor": 0,
  "metadata": {
    "colab": {
      "provenance": [],
      "authorship_tag": "ABX9TyPmC19mXqwZD19pGHiPnvBI",
      "include_colab_link": true
    },
    "kernelspec": {
      "name": "python3",
      "display_name": "Python 3"
    },
    "language_info": {
      "name": "python"
    }
  },
  "cells": [
    {
      "cell_type": "markdown",
      "metadata": {
        "id": "view-in-github",
        "colab_type": "text"
      },
      "source": [
        "<a href=\"https://colab.research.google.com/github/neel13062003/Egniol_Task/blob/master/whatsapp-api-python.ipynb\" target=\"_parent\"><img src=\"https://colab.research.google.com/assets/colab-badge.svg\" alt=\"Open In Colab\"/></a>"
      ]
    },
    {
      "cell_type": "code",
      "execution_count": 3,
      "metadata": {
        "colab": {
          "base_uri": "https://localhost:8080/"
        },
        "id": "HPSUp5b3Qjl5",
        "outputId": "46cae6f0-4632-483f-ccb5-b6486591b832"
      },
      "outputs": [
        {
          "output_type": "stream",
          "name": "stdout",
          "text": [
            "Requirement already satisfied: mysql-connector-python in /usr/local/lib/python3.10/dist-packages (8.3.0)\n"
          ]
        }
      ],
      "source": [
        "!pip install mysql-connector-python\n"
      ]
    },
    {
      "cell_type": "code",
      "source": [
        "!pip install mysql-connector-python\n",
        "\n",
        "import mysql.connector\n",
        "from mysql.connector import Error\n",
        "\n",
        "def connect_to_database():\n",
        "    try:\n",
        "        connection = mysql.connector.connect(\n",
        "            host='ls-b22a231d8e508b8c418ba2bb457da5988f6a952d.c2g9uvquz5lp.ap-south-1.rds.amazonaws.com',\n",
        "            user='DEV_FRANCE',\n",
        "            password='Egniol#271222',\n",
        "            database='Egniol_FRANCE'\n",
        "        )\n",
        "        if connection.is_connected():\n",
        "            print('Connected to MySQL database')\n",
        "            return connection\n",
        "    except Error as e:\n",
        "        print(f'Error connecting to MySQL database: {e}')\n",
        "        return None\n",
        "\n",
        "def execute_query(connection, query):\n",
        "    try:\n",
        "        cursor = connection.cursor(dictionary=True)\n",
        "        cursor.execute(query)\n",
        "        records = cursor.fetchall()\n",
        "        return records\n",
        "    except Error as e:\n",
        "        print(f'Error executing SQL query: {e}')\n",
        "        return None\n",
        "\n",
        "def main():\n",
        "    # Connect to the database\n",
        "    connection = connect_to_database()\n",
        "    if not connection:\n",
        "        return\n",
        "\n",
        "    # Define your SQL query\n",
        "    query = \"\"\"\n",
        "    SELECT id,`from` as ContactNumber  FROM PLATFORM.text_waba\n",
        "    WHERE text IN (SELECT text FROM PLATFORM.BUTTON)\n",
        "    AND DATE(created_at) = \"2024-04-13\"\n",
        "    LIMIT 5;\n",
        "    \"\"\"\n",
        "\n",
        "    # Execute the SQL query\n",
        "    records = execute_query(connection, query)\n",
        "    if not records:\n",
        "        return\n",
        "\n",
        "    # Display the results\n",
        "    print(\"Results:\")\n",
        "    for record in records:\n",
        "        print(record)\n",
        "\n",
        "if __name__ == \"__main__\":\n",
        "    main()\n"
      ],
      "metadata": {
        "colab": {
          "base_uri": "https://localhost:8080/"
        },
        "id": "yMk9Q0zRRgfo",
        "outputId": "7644b0ce-6671-4b3c-a80e-90fbecb5dc90"
      },
      "execution_count": 7,
      "outputs": [
        {
          "output_type": "stream",
          "name": "stdout",
          "text": [
            "Requirement already satisfied: mysql-connector-python in /usr/local/lib/python3.10/dist-packages (8.3.0)\n",
            "Connected to MySQL database\n",
            "Results:\n",
            "{'id': 2122696, 'ContactNumber': '917007181118'}\n",
            "{'id': 2122700, 'ContactNumber': '918737920000'}\n",
            "{'id': 2122702, 'ContactNumber': '917820089414'}\n",
            "{'id': 2122703, 'ContactNumber': '919412249900'}\n",
            "{'id': 2122705, 'ContactNumber': '919028935561'}\n"
          ]
        }
      ]
    },
    {
      "cell_type": "code",
      "source": [
        "import mysql.connector\n",
        "from mysql.connector import Error\n",
        "\n",
        "def connect_to_database():\n",
        "    try:\n",
        "        connection = mysql.connector.connect(\n",
        "            host='ls-b22a231d8e508b8c418ba2bb457da5988f6a952d.c2g9uvquz5lp.ap-south-1.rds.amazonaws.com',\n",
        "            user='DEV_FRANCE',\n",
        "            password='Egniol#271222',\n",
        "            database='Egniol_FRANCE'\n",
        "        )\n",
        "        if connection.is_connected():\n",
        "            print('Connected to MySQL database')\n",
        "            return connection\n",
        "    except Error as e:\n",
        "        print(f'Error connecting to MySQL database: {e}')\n",
        "        return None\n",
        "\n",
        "def execute_query(connection, query):\n",
        "    try:\n",
        "        cursor = connection.cursor(dictionary=True)\n",
        "        cursor.execute(query)\n",
        "        records = cursor.fetchall()\n",
        "        return records\n",
        "    except Error as e:\n",
        "        print(f'Error executing SQL query: {e}')\n",
        "        return None\n",
        "\n",
        "def execute_text_waba_query(connection):\n",
        "    query = \"\"\"\n",
        "    SELECT id, `from` as ContactNumber\n",
        "    FROM PLATFORM.text_waba\n",
        "    WHERE text IN (SELECT text FROM PLATFORM.BUTTON)\n",
        "    AND DATE(created_at) = \"2024-04-13\"\n",
        "    LIMIT 5;\n",
        "    \"\"\"\n",
        "    return execute_query(connection, query)\n",
        "\n",
        "def execute_omnichannel_query(connection):\n",
        "    query = \"\"\"\n",
        "    SELECT id, name as CompanyName, contactno as ContactNumber\n",
        "    FROM PLATFORM.omnichannel\n",
        "    WHERE message = 'b'\n",
        "    AND DATE(created_at) = \"2024-04-13\"\n",
        "    LIMIT 5;\n",
        "    \"\"\"\n",
        "    return execute_query(connection, query)\n",
        "\n",
        "def print_records(records, table_name):\n",
        "    if records:\n",
        "        print(f\"\\nResults from {table_name}:\")\n",
        "        for record in records:\n",
        "            print(record)\n",
        "    else:\n",
        "        print(f\"No records found in {table_name}\")\n",
        "\n",
        "def main():\n",
        "    # Connect to the database\n",
        "    connection = connect_to_database()\n",
        "    if not connection:\n",
        "        return\n",
        "\n",
        "    # Execute the text_waba query\n",
        "    records_text_waba = execute_text_waba_query(connection)\n",
        "    print_records(records_text_waba, \"text_waba\")\n",
        "\n",
        "    # Execute the omnichannel query\n",
        "    records_omnichannel = execute_omnichannel_query(connection)\n",
        "    print_records(records_omnichannel, \"omnichannel\")\n",
        "\n",
        "if __name__ == \"__main__\":\n",
        "    main()"
      ],
      "metadata": {
        "colab": {
          "base_uri": "https://localhost:8080/"
        },
        "id": "OiW65rHETvkC",
        "outputId": "8c974a2b-d38f-4e55-a8f6-7bd3d3547cb5"
      },
      "execution_count": 8,
      "outputs": [
        {
          "output_type": "stream",
          "name": "stdout",
          "text": [
            "Connected to MySQL database\n",
            "\n",
            "Results from text_waba:\n",
            "{'id': 2122696, 'ContactNumber': '917007181118'}\n",
            "{'id': 2122700, 'ContactNumber': '918737920000'}\n",
            "{'id': 2122702, 'ContactNumber': '917820089414'}\n",
            "{'id': 2122703, 'ContactNumber': '919412249900'}\n",
            "{'id': 2122705, 'ContactNumber': '919028935561'}\n",
            "\n",
            "Results from omnichannel:\n",
            "{'id': 113493, 'CompanyName': 'kaushal Banpela', 'ContactNumber': '919834198573'}\n",
            "{'id': 113495, 'CompanyName': 'IMRAN SHEIKH', 'ContactNumber': '917887953692'}\n",
            "{'id': 113496, 'CompanyName': 'haruntamboli1988', 'ContactNumber': '919860123928'}\n",
            "{'id': 113497, 'CompanyName': 'kale86901', 'ContactNumber': '919975707495'}\n",
            "{'id': 113498, 'CompanyName': 'Ravindra G Dhopate☺️', 'ContactNumber': '919096861170'}\n"
          ]
        }
      ]
    }
  ]
}